{
 "cells": [
  {
   "cell_type": "code",
   "execution_count": 1,
   "id": "358e9dd2",
   "metadata": {},
   "outputs": [],
   "source": [
    "# @title\n",
    "### EP2 MAC0417 / MAC5768\n",
    "##################################################################\n",
    "# AO PREENCHER ESSE CABEÇALHO COM O MEU NOME E O MEU NÚMERO USP,#\n",
    "# DECLARO QUE SOU O ÚNICO AUTOR E RESPONSÁVEL PELA RESOLUÇÃO #\n",
    "# DESTE EP. #\n",
    "# TODAS AS PARTES FORAM DESENVOLVIDAS E IMPLEMENTADAS POR MIM, #\n",
    "# SEGUINDO AS INSTRUÇÕES E QUE PORTANTO, NÃO CONSTITUEM #\n",
    "# DESONESTIDADE ACADÊMICA OU PLÁGIO. #\n",
    "# #\n",
    "# DECLARO TAMBÉM, QUE SOU RESPONSÁVEL POR TODAS AS CÓPIAS #\n",
    "# DESSE PROGRAMA, E QUE EU NÃO DISTRIBUI OU FACILITEI A #\n",
    "# SUA DISTRIBUIÇÃO. ESTOU CIENTE QUE OS CASOS DE PLÁGIO E #\n",
    "# DESONESTIDADE ACADÊMICA SERÃO TRATADOS SEGUNDO OS CRITÉRIOS #\n",
    "# DEFINIDOS NO CÓDIGO DE ÉTICA DA USP. #\n",
    "# #\n",
    "# ENTENDO QUE JUPYTER NOTEBOOKS SEM ASSINATURA NÃO SERÃO #\n",
    "# CORRIGIDOS E, AINDA ASSIM, PODERÃO SER PUNIDOS POR #\n",
    "# DESONESTIDADE ACADÊMICA. #\n",
    "# #\n",
    "# #\n",
    "# Nome : William Garib Gugel\n",
    "# NUSP : 11238131\n",
    "# Turma: #\n",
    "# Prof.: #\n",
    "##################################################################"
   ]
  },
  {
   "cell_type": "code",
   "execution_count": 2,
   "id": "ef3da9c5",
   "metadata": {},
   "outputs": [],
   "source": [
    "from ImageBase import ImageBase\n",
    "import numpy as np\n",
    "import pandas as pd\n",
    "from cv2 import imwrite, cvtColor, COLOR_BGR2GRAY, resize\n",
    "import matplotlib.pyplot as plt"
   ]
  },
  {
   "cell_type": "code",
   "execution_count": 3,
   "id": "7211fb15",
   "metadata": {},
   "outputs": [],
   "source": [
    "x=ImageBase(\"./augmentedDataSet/\")\n",
    "x.data.reset_index(inplace=True)\n",
    "\n",
    "y=ImageBase(\"./ImageBase/\")"
   ]
  },
  {
   "cell_type": "markdown",
   "id": "0f711617",
   "metadata": {},
   "source": [
    "# Função que Faz a Equalização do Histograma"
   ]
  },
  {
   "cell_type": "code",
   "execution_count": 4,
   "id": "45a93b5b",
   "metadata": {},
   "outputs": [],
   "source": [
    "def equalizar(img):\n",
    "    c = 255 / img.size\n",
    "    aux = pd.Series(img.reshape(img.size)).value_counts()\n",
    "    \n",
    "    prob = [0] * 256\n",
    "    for i in aux.index: prob[i] = aux[i]\n",
    "    prob = np.array(prob)\n",
    "    \n",
    "    transfom = dict(zip(range(256), 256 * [0]))\n",
    "    for k in range(256):\n",
    "        transfom[k] = c * prob[0:k+1].sum()\n",
    "    \n",
    "    return np.vectorize(transfom.get)(img).round()"
   ]
  },
  {
   "cell_type": "markdown",
   "id": "6a509e3b",
   "metadata": {},
   "source": [
    "# Função que Cria os Arquivos Normalizados"
   ]
  },
  {
   "cell_type": "code",
   "execution_count": 5,
   "id": "e1654967",
   "metadata": {},
   "outputs": [],
   "source": [
    "def process():\n",
    "    c = 1\n",
    "    for i in x.data.index:\n",
    "        name = x[i].id\n",
    "        img = x.getById(i)\n",
    "        name = str(x[i].path).split('\\\\', 1)[1].replace('\\\\', '/')\n",
    "\n",
    "        imwrite('./normalizedDataSet/' + name, equalizar(img))\n",
    "        \n",
    "        if c % 100 == 0: print(c)\n",
    "        c += 1"
   ]
  },
  {
   "cell_type": "markdown",
   "id": "2e4d158d",
   "metadata": {},
   "source": [
    "# Executando o Processo"
   ]
  },
  {
   "cell_type": "code",
   "execution_count": 6,
   "id": "585436e6",
   "metadata": {},
   "outputs": [],
   "source": [
    "# process()"
   ]
  },
  {
   "cell_type": "markdown",
   "id": "01df062e",
   "metadata": {},
   "source": [
    "# Mapeando as Imagens Geradas"
   ]
  },
  {
   "cell_type": "code",
   "execution_count": 7,
   "id": "bb2672c3",
   "metadata": {},
   "outputs": [],
   "source": [
    "z = ImageBase(\"./normalizedDataSet/\")\n",
    "z.data.reset_index(inplace=True)"
   ]
  },
  {
   "cell_type": "markdown",
   "id": "e2f58952",
   "metadata": {},
   "source": [
    "# Calculo do Histograma"
   ]
  },
  {
   "cell_type": "code",
   "execution_count": null,
   "id": "a46f4479",
   "metadata": {},
   "outputs": [],
   "source": [
    "def soma_histogramas(lista, size):\n",
    "    output = pd.Series(np.zeros(256))\n",
    "    for img in lista:\n",
    "        arq = x.getById(img)\n",
    "        for i, soma in pd.Series(arq.reshape(arq.size)).value_counts().items():\n",
    "            output.iloc[i] += soma\n",
    "        # End For\n",
    "    return output.astype(int)"
   ]
  },
  {
   "cell_type": "code",
   "execution_count": null,
   "id": "93a90b45",
   "metadata": {},
   "outputs": [],
   "source": [
    "histograma_interno = x.data[x.data.iluminacao == 'I'].index\n",
    "qtd = histograma_interno.shape\n",
    "interno = soma_histogramas(histograma_interno, 808800) / qtd"
   ]
  },
  {
   "cell_type": "code",
   "execution_count": null,
   "id": "f1822912",
   "metadata": {},
   "outputs": [],
   "source": [
    "histograma_interno = x.data[x.data.iluminacao == 'E'].index\n",
    "qtd = histograma_interno.shape\n",
    "externo = soma_histogramas(histograma_interno, 808800) / qtd"
   ]
  },
  {
   "cell_type": "code",
   "execution_count": null,
   "id": "489d9ed4",
   "metadata": {},
   "outputs": [],
   "source": [
    "histograma_interno = z.data[x.data.iluminacao == 'I'].index\n",
    "qtd = histograma_interno.shape\n",
    "interno_normalzado = soma_histogramas(histograma_interno, 808800) / qtd"
   ]
  },
  {
   "cell_type": "code",
   "execution_count": null,
   "id": "ba5e031a",
   "metadata": {},
   "outputs": [],
   "source": [
    "histograma_interno = z.data[x.data.iluminacao == 'E'].index\n",
    "qtd = histograma_interno.shape\n",
    "externo_normalzado = soma_histogramas(histograma_interno, 808800) / qtd"
   ]
  },
  {
   "cell_type": "markdown",
   "id": "315b8bab",
   "metadata": {},
   "source": [
    "# Plotando os Resultados"
   ]
  },
  {
   "cell_type": "markdown",
   "id": "ec6bfde1",
   "metadata": {},
   "source": [
    "### Iluminação Interna"
   ]
  },
  {
   "cell_type": "code",
   "execution_count": null,
   "id": "855fa4b7",
   "metadata": {
    "scrolled": false
   },
   "outputs": [],
   "source": [
    "img, ax = plt.subplots(2,2, figsize=(20,20))\n",
    "_=ax[0][1].bar(interno_normalzado.index, interno)\n",
    "_=ax[0][0].bar(interno.index, interno)\n",
    "_=ax[1][0].imshow(z.getById(18), 'gray')\n",
    "_=ax[1][1].imshow(y.getById(x[18].id), 'gray')"
   ]
  },
  {
   "cell_type": "code",
   "execution_count": null,
   "id": "970aba33",
   "metadata": {},
   "outputs": [],
   "source": [
    "img, ax = plt.subplots(2,2, figsize=(20,20))\n",
    "_=ax[0][1].bar(externo_normalzado.index, externo)\n",
    "_=ax[0][0].bar(externo.index, interno)\n",
    "_=ax[1][0].imshow(z.getById(18), 'gray')\n",
    "_=ax[1][1].imshow(y.getById(x[18].id), 'gray')"
   ]
  },
  {
   "cell_type": "code",
   "execution_count": null,
   "id": "af64791b",
   "metadata": {},
   "outputs": [],
   "source": []
  }
 ],
 "metadata": {
  "kernelspec": {
   "display_name": "Python 3 (ipykernel)",
   "language": "python",
   "name": "python3"
  },
  "language_info": {
   "codemirror_mode": {
    "name": "ipython",
    "version": 3
   },
   "file_extension": ".py",
   "mimetype": "text/x-python",
   "name": "python",
   "nbconvert_exporter": "python",
   "pygments_lexer": "ipython3",
   "version": "3.9.7"
  }
 },
 "nbformat": 4,
 "nbformat_minor": 5
}

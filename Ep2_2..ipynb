{
 "cells": [
  {
   "cell_type": "code",
   "execution_count": null,
   "id": "358e9dd2",
   "metadata": {},
   "outputs": [],
   "source": [
    "# @title\n",
    "### EP2 MAC0417 / MAC5768\n",
    "##################################################################\n",
    "# AO PREENCHER ESSE CABEÇALHO COM O MEU NOME E O MEU NÚMERO USP,#\n",
    "# DECLARO QUE SOU O ÚNICO AUTOR E RESPONSÁVEL PELA RESOLUÇÃO #\n",
    "# DESTE EP. #\n",
    "# TODAS AS PARTES FORAM DESENVOLVIDAS E IMPLEMENTADAS POR MIM, #\n",
    "# SEGUINDO AS INSTRUÇÕES E QUE PORTANTO, NÃO CONSTITUEM #\n",
    "# DESONESTIDADE ACADÊMICA OU PLÁGIO. #\n",
    "# #\n",
    "# DECLARO TAMBÉM, QUE SOU RESPONSÁVEL POR TODAS AS CÓPIAS #\n",
    "# DESSE PROGRAMA, E QUE EU NÃO DISTRIBUI OU FACILITEI A #\n",
    "# SUA DISTRIBUIÇÃO. ESTOU CIENTE QUE OS CASOS DE PLÁGIO E #\n",
    "# DESONESTIDADE ACADÊMICA SERÃO TRATADOS SEGUNDO OS CRITÉRIOS #\n",
    "# DEFINIDOS NO CÓDIGO DE ÉTICA DA USP. #\n",
    "# #\n",
    "# ENTENDO QUE JUPYTER NOTEBOOKS SEM ASSINATURA NÃO SERÃO #\n",
    "# CORRIGIDOS E, AINDA ASSIM, PODERÃO SER PUNIDOS POR #\n",
    "# DESONESTIDADE ACADÊMICA. #\n",
    "# #\n",
    "# #\n",
    "# Nome : William Garib Gugel\n",
    "# NUSP : 11238131\n",
    "# Turma: #\n",
    "# Prof.: #\n",
    "##################################################################"
   ]
  },
  {
   "cell_type": "code",
   "execution_count": 110,
   "id": "ef3da9c5",
   "metadata": {},
   "outputs": [],
   "source": [
    "from ImageBase import ImageBase\n",
    "import numpy as np\n",
    "import pandas as pd\n",
    "from cv2 import imwrite, cvtColor, COLOR_BGR2GRAY, resize\n",
    "import matplotlib.pyplot as plt"
   ]
  },
  {
   "cell_type": "code",
   "execution_count": 159,
   "id": "7211fb15",
   "metadata": {},
   "outputs": [],
   "source": [
    "x=ImageBase(\"./augmentedDataSet/\")\n",
    "x.data.reset_index(inplace=True)\n",
    "\n",
    "y=ImageBase(\"./ImageBase/\")"
   ]
  },
  {
   "cell_type": "markdown",
   "id": "0f711617",
   "metadata": {},
   "source": [
    "# Função que Faz a Equalização do Histograma"
   ]
  },
  {
   "cell_type": "code",
   "execution_count": 2,
   "id": "45a93b5b",
   "metadata": {},
   "outputs": [],
   "source": [
    "def equalizar(img):\n",
    "    c = 255 / img.size\n",
    "    aux = pd.Series(img.reshape(img.size)).value_counts()\n",
    "    \n",
    "    prob = [0] * 256\n",
    "    for i in aux.index: prob[i] = aux[i]\n",
    "    prob = np.array(prob)\n",
    "    \n",
    "    transfom = dict(zip(range(256), 256 * [0]))\n",
    "    for k in range(256):\n",
    "        transfom[k] = c * prob[0:k+1].sum()\n",
    "    \n",
    "    return np.vectorize(transfom.get)(img).round()"
   ]
  },
  {
   "cell_type": "markdown",
   "id": "6a509e3b",
   "metadata": {},
   "source": [
    "# Função que Cria os Arquivos Normalizados"
   ]
  },
  {
   "cell_type": "code",
   "execution_count": 4,
   "id": "e1654967",
   "metadata": {},
   "outputs": [],
   "source": [
    "def process():\n",
    "    c = 1\n",
    "    for i in x.data.index:\n",
    "        name = x[i].id\n",
    "        img = x.getById(i)\n",
    "        name = str(x[i].path).split('\\\\', 1)[1].replace('\\\\', '/')\n",
    "\n",
    "        imwrite('./normalizedDataSet/' + name, equalizar(img))\n",
    "        \n",
    "        if c % 100 == 0: print(c)\n",
    "        c += 1"
   ]
  },
  {
   "cell_type": "markdown",
   "id": "2e4d158d",
   "metadata": {},
   "source": [
    "# Executando o Processo"
   ]
  },
  {
   "cell_type": "code",
   "execution_count": 5,
   "id": "585436e6",
   "metadata": {
    "collapsed": true
   },
   "outputs": [
    {
     "name": "stdout",
     "output_type": "stream",
     "text": [
      "10\n",
      "20\n",
      "30\n",
      "40\n",
      "50\n",
      "60\n",
      "70\n",
      "80\n",
      "90\n",
      "100\n",
      "110\n",
      "120\n",
      "130\n",
      "140\n",
      "150\n",
      "160\n",
      "170\n",
      "180\n",
      "190\n",
      "200\n",
      "210\n",
      "220\n",
      "230\n",
      "240\n",
      "250\n",
      "260\n",
      "270\n",
      "280\n",
      "290\n",
      "300\n",
      "310\n",
      "320\n",
      "330\n",
      "340\n",
      "350\n",
      "360\n",
      "370\n",
      "380\n",
      "390\n",
      "400\n",
      "410\n",
      "420\n",
      "430\n",
      "440\n",
      "450\n",
      "460\n",
      "470\n",
      "480\n",
      "490\n",
      "500\n",
      "510\n",
      "520\n",
      "530\n",
      "540\n",
      "550\n",
      "560\n",
      "570\n",
      "580\n",
      "590\n",
      "600\n",
      "610\n",
      "620\n",
      "630\n",
      "640\n",
      "650\n",
      "660\n",
      "670\n",
      "680\n",
      "690\n",
      "700\n",
      "710\n",
      "720\n",
      "730\n",
      "740\n",
      "750\n",
      "760\n",
      "770\n",
      "780\n",
      "790\n",
      "800\n",
      "810\n",
      "820\n",
      "830\n",
      "840\n",
      "850\n",
      "860\n",
      "870\n",
      "880\n",
      "890\n",
      "900\n",
      "910\n",
      "920\n",
      "930\n",
      "940\n",
      "950\n",
      "960\n",
      "970\n",
      "980\n",
      "990\n",
      "1000\n",
      "1010\n",
      "1020\n",
      "1030\n",
      "1040\n",
      "1050\n",
      "1060\n"
     ]
    }
   ],
   "source": [
    "# process()"
   ]
  },
  {
   "cell_type": "markdown",
   "id": "01df062e",
   "metadata": {},
   "source": [
    "# Mapeando as Imagens Geradas"
   ]
  },
  {
   "cell_type": "code",
   "execution_count": 173,
   "id": "bb2672c3",
   "metadata": {},
   "outputs": [],
   "source": [
    "z = ImageBase(\"./normalizedDataSet/\")\n",
    "z.data.reset_index(inplace=True)"
   ]
  },
  {
   "cell_type": "markdown",
   "id": "e2f58952",
   "metadata": {},
   "source": [
    "# Calculo do Histograma"
   ]
  },
  {
   "cell_type": "code",
   "execution_count": 88,
   "id": "a46f4479",
   "metadata": {},
   "outputs": [],
   "source": [
    "def soma_histogramas(lista, size):\n",
    "    output = pd.Series(np.zeros(256))\n",
    "    for img in lista:\n",
    "        for i, soma in pd.Series(x.getById(img).reshape(size)).value_counts().items():\n",
    "            output.iloc[i] += soma\n",
    "        # End For\n",
    "    return output.astype(int)"
   ]
  },
  {
   "cell_type": "code",
   "execution_count": 125,
   "id": "93a90b45",
   "metadata": {},
   "outputs": [],
   "source": [
    "histograma_interno = x.data[x.data.iluminacao == 'I'].index\n",
    "qtd = histograma_interno.shape\n",
    "interno = soma_histogramas(histograma_interno, 808800) / qtd"
   ]
  },
  {
   "cell_type": "code",
   "execution_count": 126,
   "id": "f1822912",
   "metadata": {},
   "outputs": [],
   "source": [
    "histograma_interno = x.data[x.data.iluminacao == 'E'].index\n",
    "qtd = histograma_interno.shape\n",
    "externo = soma_histogramas(histograma_interno, 808800) / qtd"
   ]
  },
  {
   "cell_type": "code",
   "execution_count": 178,
   "id": "489d9ed4",
   "metadata": {},
   "outputs": [],
   "source": [
    "histograma_interno = z.data[x.data.iluminacao == 'I'].index\n",
    "qtd = histograma_interno.shape\n",
    "interno_normalzado = soma_histogramas(histograma_interno, 808800) / qtd"
   ]
  },
  {
   "cell_type": "code",
   "execution_count": 181,
   "id": "ba5e031a",
   "metadata": {},
   "outputs": [],
   "source": [
    "histograma_interno = z.data[x.data.iluminacao == 'E'].index\n",
    "qtd = histograma_interno.shape\n",
    "externo_normalzado = soma_histogramas(histograma_interno, 808800) / qtd"
   ]
  },
  {
   "cell_type": "markdown",
   "id": "315b8bab",
   "metadata": {},
   "source": [
    "# Plotando os Resultados"
   ]
  },
  {
   "cell_type": "markdown",
   "id": "ec6bfde1",
   "metadata": {},
   "source": [
    "### Iluminação Interna"
   ]
  },
  {
   "cell_type": "code",
   "execution_count": 180,
   "id": "855fa4b7",
   "metadata": {
    "scrolled": false
   },
   "outputs": [
    {
     "data": {
      "image/png": "[encoded data removed]",
      "text/plain": [
       "<Figure size 1152x648 with 2 Axes>"
      ]
     },
     "metadata": {
      "needs_background": "light"
     },
     "output_type": "display_data"
    }
   ],
   "source": [
    "img, ax = plt.subplots(2,2, figsize=(20,20))\n",
    "_=ax[0][1].bar(interno_normalzado[1:].index, interno[1:])\n",
    "_=ax[0][0].bar(interno[1:].index, interno[1:])\n",
    "_=ax[1][0].imshow(z.getById(18))\n",
    "_=ax[1][1].imshow(y.getById(x[18].id), 'gray')"
   ]
  },
  {
   "cell_type": "code",
   "execution_count": 1,
   "id": "970aba33",
   "metadata": {},
   "outputs": [
    {
     "ename": "NameError",
     "evalue": "name 'plt' is not defined",
     "output_type": "error",
     "traceback": [
      "\u001b[1;31m---------------------------------------------------------------------------\u001b[0m",
      "\u001b[1;31mNameError\u001b[0m                                 Traceback (most recent call last)",
      "\u001b[1;32mC:\\Users\\WILLIA~1.GAR\\AppData\\Local\\Temp/ipykernel_484/689744987.py\u001b[0m in \u001b[0;36m<module>\u001b[1;34m\u001b[0m\n\u001b[1;32m----> 1\u001b[1;33m \u001b[0mimg\u001b[0m\u001b[1;33m,\u001b[0m \u001b[0max\u001b[0m \u001b[1;33m=\u001b[0m \u001b[0mplt\u001b[0m\u001b[1;33m.\u001b[0m\u001b[0msubplots\u001b[0m\u001b[1;33m(\u001b[0m\u001b[1;36m1\u001b[0m\u001b[1;33m,\u001b[0m\u001b[1;36m2\u001b[0m\u001b[1;33m,\u001b[0m \u001b[0mfigsize\u001b[0m\u001b[1;33m=\u001b[0m\u001b[1;33m(\u001b[0m\u001b[1;36m16\u001b[0m\u001b[1;33m,\u001b[0m\u001b[1;36m9\u001b[0m\u001b[1;33m)\u001b[0m\u001b[1;33m)\u001b[0m\u001b[1;33m\u001b[0m\u001b[1;33m\u001b[0m\u001b[0m\n\u001b[0m\u001b[0;32m      2\u001b[0m \u001b[0m_\u001b[0m\u001b[1;33m=\u001b[0m\u001b[0max\u001b[0m\u001b[1;33m[\u001b[0m\u001b[1;36m1\u001b[0m\u001b[1;33m]\u001b[0m\u001b[1;33m.\u001b[0m\u001b[0mimshow\u001b[0m\u001b[1;33m(\u001b[0m\u001b[0mz\u001b[0m\u001b[1;33m.\u001b[0m\u001b[0mgetById\u001b[0m\u001b[1;33m(\u001b[0m\u001b[1;36m18\u001b[0m\u001b[1;33m)\u001b[0m\u001b[1;33m)\u001b[0m\u001b[1;33m\u001b[0m\u001b[1;33m\u001b[0m\u001b[0m\n\u001b[0;32m      3\u001b[0m \u001b[0m_\u001b[0m\u001b[1;33m=\u001b[0m\u001b[0max\u001b[0m\u001b[1;33m[\u001b[0m\u001b[1;36m0\u001b[0m\u001b[1;33m]\u001b[0m\u001b[1;33m.\u001b[0m\u001b[0mimshow\u001b[0m\u001b[1;33m(\u001b[0m\u001b[0my\u001b[0m\u001b[1;33m.\u001b[0m\u001b[0mgetById\u001b[0m\u001b[1;33m(\u001b[0m\u001b[0mx\u001b[0m\u001b[1;33m[\u001b[0m\u001b[1;36m18\u001b[0m\u001b[1;33m]\u001b[0m\u001b[1;33m.\u001b[0m\u001b[0mid\u001b[0m\u001b[1;33m)\u001b[0m\u001b[1;33m,\u001b[0m \u001b[1;34m'gray'\u001b[0m\u001b[1;33m)\u001b[0m\u001b[1;33m\u001b[0m\u001b[1;33m\u001b[0m\u001b[0m\n",
      "\u001b[1;31mNameError\u001b[0m: name 'plt' is not defined"
     ]
    }
   ],
   "source": [
    "img, ax = plt.subplots(2,2, figsize=(20,20))\n",
    "_=ax[0][1].bar(externo_normalzado[1:].index, externo[1:])\n",
    "_=ax[0][0].bar(externo[1:].index, externo[1:])\n",
    "_=ax[1][0].imshow(z.getById(18))\n",
    "_=ax[1][1].imshow(y.getById(x[18].id), 'gray')"
   ]
  },
  {
   "cell_type": "code",
   "execution_count": null,
   "id": "af64791b",
   "metadata": {},
   "outputs": [],
   "source": []
  }
 ],
 "metadata": {
  "kernelspec": {
   "display_name": "Python 3 (ipykernel)",
   "language": "python",
   "name": "python3"
  },
  "language_info": {
   "codemirror_mode": {
    "name": "ipython",
    "version": 3
   },
   "file_extension": ".py",
   "mimetype": "text/x-python",
   "name": "python",
   "nbconvert_exporter": "python",
   "pygments_lexer": "ipython3",
   "version": "3.9.7"
  }
 },
 "nbformat": 4,
 "nbformat_minor": 5
}
